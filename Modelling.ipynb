{
 "cells": [
  {
   "cell_type": "code",
   "execution_count": 1,
   "id": "c2dfcb25",
   "metadata": {},
   "outputs": [],
   "source": [
    "# Import important libraries\n",
    "import pandas as pd\n",
    "import numpy as np \n",
    "import matplotlib.pyplot as plt\n",
    "import seaborn as sns\n",
    "from sklearn.metrics import mean_absolute_error, mean_squared_error\n",
    "from sklearn.model_selection import train_test_split\n",
    "from sklearn.preprocessing import LabelEncoder\n",
    "\n",
    "%matplotlib inline\n",
    "import warnings\n",
    "warnings.filterwarnings('ignore')"
   ]
  },
  {
   "cell_type": "code",
   "execution_count": 2,
   "id": "8d5c8215",
   "metadata": {},
   "outputs": [],
   "source": [
    "# Load the data\n",
    "train = pd.read_csv(\"Housing_dataset_train.csv\")\n",
    "test = pd.read_csv(\"Housing_dataset_test.csv\")\n",
    "submission = pd.read_csv(\"Sample_submission.csv\")"
   ]
  },
  {
   "cell_type": "code",
   "execution_count": 3,
   "id": "9531b0f9",
   "metadata": {},
   "outputs": [
    {
     "name": "stdout",
     "output_type": "stream",
     "text": [
      "<class 'pandas.core.frame.DataFrame'>\n",
      "RangeIndex: 14000 entries, 0 to 13999\n",
      "Data columns (total 7 columns):\n",
      " #   Column         Non-Null Count  Dtype  \n",
      "---  ------         --------------  -----  \n",
      " 0   ID             14000 non-null  int64  \n",
      " 1   loc            12187 non-null  object \n",
      " 2   title          12278 non-null  object \n",
      " 3   bedroom        12201 non-null  float64\n",
      " 4   bathroom       12195 non-null  float64\n",
      " 5   parking_space  12189 non-null  float64\n",
      " 6   price          14000 non-null  float64\n",
      "dtypes: float64(4), int64(1), object(2)\n",
      "memory usage: 765.8+ KB\n",
      "<class 'pandas.core.frame.DataFrame'>\n",
      "RangeIndex: 6000 entries, 0 to 5999\n",
      "Data columns (total 6 columns):\n",
      " #   Column         Non-Null Count  Dtype \n",
      "---  ------         --------------  ----- \n",
      " 0   ID             6000 non-null   int64 \n",
      " 1   loc            6000 non-null   object\n",
      " 2   title          6000 non-null   object\n",
      " 3   bedroom        6000 non-null   int64 \n",
      " 4   bathroom       6000 non-null   int64 \n",
      " 5   parking_space  6000 non-null   int64 \n",
      "dtypes: int64(4), object(2)\n",
      "memory usage: 281.4+ KB\n"
     ]
    },
    {
     "data": {
      "text/plain": [
       "(None, None)"
      ]
     },
     "execution_count": 3,
     "metadata": {},
     "output_type": "execute_result"
    }
   ],
   "source": [
    "#brief overview of the datasets\n",
    "train.info(), test.info()"
   ]
  },
  {
   "cell_type": "code",
   "execution_count": 4,
   "id": "820cbe70",
   "metadata": {},
   "outputs": [],
   "source": [
    "#dropping the ID columns since the ID is unique and it might affect the model\n",
    "train.drop(\"ID\", axis = 1, inplace = True)\n",
    "test.drop(\"ID\", axis = 1, inplace = True)"
   ]
  },
  {
   "cell_type": "markdown",
   "id": "e41c2a2b",
   "metadata": {},
   "source": [
    "# Filling Missing Values"
   ]
  },
  {
   "cell_type": "code",
   "execution_count": 5,
   "id": "270ed14f",
   "metadata": {},
   "outputs": [],
   "source": [
    "#the missing values for bedroom, bathroom and parking_space were filled\n",
    "train['bedroom'].fillna(train['bedroom'].std(), inplace=True) #filled with the standard deviation\n",
    "train['bathroom'].fillna(train['bathroom'].std(), inplace=True) #filled with the standard deviation\n",
    "train['parking_space'].fillna(0, inplace=True) #filled with 0 to assume there is no parking space"
   ]
  },
  {
   "cell_type": "code",
   "execution_count": 6,
   "id": "4b79cdde",
   "metadata": {},
   "outputs": [
    {
     "name": "stdout",
     "output_type": "stream",
     "text": [
      "<class 'pandas.core.frame.DataFrame'>\n",
      "RangeIndex: 14000 entries, 0 to 13999\n",
      "Data columns (total 6 columns):\n",
      " #   Column         Non-Null Count  Dtype  \n",
      "---  ------         --------------  -----  \n",
      " 0   loc            12187 non-null  object \n",
      " 1   title          12278 non-null  object \n",
      " 2   bedroom        14000 non-null  float64\n",
      " 3   bathroom       14000 non-null  float64\n",
      " 4   parking_space  14000 non-null  float64\n",
      " 5   price          14000 non-null  float64\n",
      "dtypes: float64(4), object(2)\n",
      "memory usage: 656.4+ KB\n"
     ]
    }
   ],
   "source": [
    "train.info()"
   ]
  },
  {
   "cell_type": "code",
   "execution_count": 7,
   "id": "6e06584b",
   "metadata": {},
   "outputs": [],
   "source": [
    "#missing values for title and loc were not filled as assumed values might be outrightly wrong\n",
    "train = train.dropna()"
   ]
  },
  {
   "cell_type": "code",
   "execution_count": 8,
   "id": "9c562794",
   "metadata": {},
   "outputs": [
    {
     "data": {
      "text/plain": [
       "(10531, 6)"
      ]
     },
     "execution_count": 8,
     "metadata": {},
     "output_type": "execute_result"
    }
   ],
   "source": [
    "train.shape"
   ]
  },
  {
   "cell_type": "markdown",
   "id": "7c3a3727",
   "metadata": {},
   "source": [
    "# Encoding Categorical Variables"
   ]
  },
  {
   "cell_type": "code",
   "execution_count": 9,
   "id": "31ad74f9",
   "metadata": {},
   "outputs": [],
   "source": [
    "#using Label Encoder for the title feature\n",
    "from sklearn.preprocessing import LabelEncoder\n",
    "le = LabelEncoder()\n",
    "\n",
    "train['title_enc'] = le.fit_transform(train['title'])\n",
    "test['title_enc'] = le.fit_transform(test['title'])"
   ]
  },
  {
   "cell_type": "code",
   "execution_count": 10,
   "id": "6086a57c",
   "metadata": {},
   "outputs": [],
   "source": [
    "#this method was used to avoid the ordinal issues that might affect the loc feature\n",
    "loc_enc_train = pd.get_dummies(train['loc'], prefix = \"loc\")\n",
    "loc_enc_test = pd.get_dummies(test['loc'], prefix = \"loc\")"
   ]
  },
  {
   "cell_type": "code",
   "execution_count": 11,
   "id": "884a3853",
   "metadata": {},
   "outputs": [],
   "source": [
    "#encoded values were concated to the datasets\n",
    "train = pd.concat([train, loc_enc_train], axis=1)\n",
    "test = pd.concat([test, loc_enc_test], axis=1)"
   ]
  },
  {
   "cell_type": "code",
   "execution_count": 12,
   "id": "a7352675",
   "metadata": {},
   "outputs": [],
   "source": [
    "#unencoded fetures were dropped\n",
    "train.drop(['title', 'loc'], axis=1, inplace=True)\n",
    "test.drop(['title', 'loc'], axis=1, inplace=True)"
   ]
  },
  {
   "cell_type": "code",
   "execution_count": 13,
   "id": "54bff689",
   "metadata": {},
   "outputs": [
    {
     "data": {
      "text/html": [
       "<div>\n",
       "<style scoped>\n",
       "    .dataframe tbody tr th:only-of-type {\n",
       "        vertical-align: middle;\n",
       "    }\n",
       "\n",
       "    .dataframe tbody tr th {\n",
       "        vertical-align: top;\n",
       "    }\n",
       "\n",
       "    .dataframe thead th {\n",
       "        text-align: right;\n",
       "    }\n",
       "</style>\n",
       "<table border=\"1\" class=\"dataframe\">\n",
       "  <thead>\n",
       "    <tr style=\"text-align: right;\">\n",
       "      <th></th>\n",
       "      <th>bedroom</th>\n",
       "      <th>bathroom</th>\n",
       "      <th>parking_space</th>\n",
       "      <th>price</th>\n",
       "      <th>title_enc</th>\n",
       "      <th>loc_Abia</th>\n",
       "      <th>loc_Adamawa</th>\n",
       "      <th>loc_Akwa Ibom</th>\n",
       "      <th>loc_Anambra</th>\n",
       "      <th>loc_Bauchi</th>\n",
       "      <th>...</th>\n",
       "      <th>loc_Ogun</th>\n",
       "      <th>loc_Ondo</th>\n",
       "      <th>loc_Osun</th>\n",
       "      <th>loc_Oyo</th>\n",
       "      <th>loc_Plateau</th>\n",
       "      <th>loc_Rivers</th>\n",
       "      <th>loc_Sokoto</th>\n",
       "      <th>loc_Taraba</th>\n",
       "      <th>loc_Yobe</th>\n",
       "      <th>loc_Zamfara</th>\n",
       "    </tr>\n",
       "  </thead>\n",
       "  <tbody>\n",
       "    <tr>\n",
       "      <th>count</th>\n",
       "      <td>10531.000000</td>\n",
       "      <td>10531.000000</td>\n",
       "      <td>10531.000000</td>\n",
       "      <td>1.053100e+04</td>\n",
       "      <td>10531.000000</td>\n",
       "      <td>10531.000000</td>\n",
       "      <td>10531.000000</td>\n",
       "      <td>10531.000000</td>\n",
       "      <td>10531.000000</td>\n",
       "      <td>10531.000000</td>\n",
       "      <td>...</td>\n",
       "      <td>10531.000000</td>\n",
       "      <td>10531.000000</td>\n",
       "      <td>10531.000000</td>\n",
       "      <td>10531.000000</td>\n",
       "      <td>10531.000000</td>\n",
       "      <td>10531.000000</td>\n",
       "      <td>10531.000000</td>\n",
       "      <td>10531.000000</td>\n",
       "      <td>10531.000000</td>\n",
       "      <td>10531.000000</td>\n",
       "    </tr>\n",
       "    <tr>\n",
       "      <th>mean</th>\n",
       "      <td>4.001705</td>\n",
       "      <td>2.957944</td>\n",
       "      <td>2.661855</td>\n",
       "      <td>2.127767e+06</td>\n",
       "      <td>4.666224</td>\n",
       "      <td>0.026208</td>\n",
       "      <td>0.027063</td>\n",
       "      <td>0.025923</td>\n",
       "      <td>0.029437</td>\n",
       "      <td>0.027348</td>\n",
       "      <td>...</td>\n",
       "      <td>0.028297</td>\n",
       "      <td>0.028487</td>\n",
       "      <td>0.027158</td>\n",
       "      <td>0.028582</td>\n",
       "      <td>0.028582</td>\n",
       "      <td>0.026398</td>\n",
       "      <td>0.027253</td>\n",
       "      <td>0.026683</td>\n",
       "      <td>0.029152</td>\n",
       "      <td>0.029152</td>\n",
       "    </tr>\n",
       "    <tr>\n",
       "      <th>std</th>\n",
       "      <td>2.335920</td>\n",
       "      <td>1.904269</td>\n",
       "      <td>1.868082</td>\n",
       "      <td>1.069676e+06</td>\n",
       "      <td>2.890857</td>\n",
       "      <td>0.159762</td>\n",
       "      <td>0.162275</td>\n",
       "      <td>0.158915</td>\n",
       "      <td>0.169036</td>\n",
       "      <td>0.163103</td>\n",
       "      <td>...</td>\n",
       "      <td>0.165829</td>\n",
       "      <td>0.166368</td>\n",
       "      <td>0.162551</td>\n",
       "      <td>0.166637</td>\n",
       "      <td>0.166637</td>\n",
       "      <td>0.160324</td>\n",
       "      <td>0.162827</td>\n",
       "      <td>0.161163</td>\n",
       "      <td>0.168241</td>\n",
       "      <td>0.168241</td>\n",
       "    </tr>\n",
       "    <tr>\n",
       "      <th>min</th>\n",
       "      <td>1.000000</td>\n",
       "      <td>1.000000</td>\n",
       "      <td>0.000000</td>\n",
       "      <td>4.319673e+05</td>\n",
       "      <td>0.000000</td>\n",
       "      <td>0.000000</td>\n",
       "      <td>0.000000</td>\n",
       "      <td>0.000000</td>\n",
       "      <td>0.000000</td>\n",
       "      <td>0.000000</td>\n",
       "      <td>...</td>\n",
       "      <td>0.000000</td>\n",
       "      <td>0.000000</td>\n",
       "      <td>0.000000</td>\n",
       "      <td>0.000000</td>\n",
       "      <td>0.000000</td>\n",
       "      <td>0.000000</td>\n",
       "      <td>0.000000</td>\n",
       "      <td>0.000000</td>\n",
       "      <td>0.000000</td>\n",
       "      <td>0.000000</td>\n",
       "    </tr>\n",
       "    <tr>\n",
       "      <th>25%</th>\n",
       "      <td>2.441165</td>\n",
       "      <td>2.000000</td>\n",
       "      <td>1.000000</td>\n",
       "      <td>1.391271e+06</td>\n",
       "      <td>2.000000</td>\n",
       "      <td>0.000000</td>\n",
       "      <td>0.000000</td>\n",
       "      <td>0.000000</td>\n",
       "      <td>0.000000</td>\n",
       "      <td>0.000000</td>\n",
       "      <td>...</td>\n",
       "      <td>0.000000</td>\n",
       "      <td>0.000000</td>\n",
       "      <td>0.000000</td>\n",
       "      <td>0.000000</td>\n",
       "      <td>0.000000</td>\n",
       "      <td>0.000000</td>\n",
       "      <td>0.000000</td>\n",
       "      <td>0.000000</td>\n",
       "      <td>0.000000</td>\n",
       "      <td>0.000000</td>\n",
       "    </tr>\n",
       "    <tr>\n",
       "      <th>50%</th>\n",
       "      <td>3.000000</td>\n",
       "      <td>2.035950</td>\n",
       "      <td>3.000000</td>\n",
       "      <td>1.888006e+06</td>\n",
       "      <td>5.000000</td>\n",
       "      <td>0.000000</td>\n",
       "      <td>0.000000</td>\n",
       "      <td>0.000000</td>\n",
       "      <td>0.000000</td>\n",
       "      <td>0.000000</td>\n",
       "      <td>...</td>\n",
       "      <td>0.000000</td>\n",
       "      <td>0.000000</td>\n",
       "      <td>0.000000</td>\n",
       "      <td>0.000000</td>\n",
       "      <td>0.000000</td>\n",
       "      <td>0.000000</td>\n",
       "      <td>0.000000</td>\n",
       "      <td>0.000000</td>\n",
       "      <td>0.000000</td>\n",
       "      <td>0.000000</td>\n",
       "    </tr>\n",
       "    <tr>\n",
       "      <th>75%</th>\n",
       "      <td>5.000000</td>\n",
       "      <td>4.000000</td>\n",
       "      <td>4.000000</td>\n",
       "      <td>2.571146e+06</td>\n",
       "      <td>7.000000</td>\n",
       "      <td>0.000000</td>\n",
       "      <td>0.000000</td>\n",
       "      <td>0.000000</td>\n",
       "      <td>0.000000</td>\n",
       "      <td>0.000000</td>\n",
       "      <td>...</td>\n",
       "      <td>0.000000</td>\n",
       "      <td>0.000000</td>\n",
       "      <td>0.000000</td>\n",
       "      <td>0.000000</td>\n",
       "      <td>0.000000</td>\n",
       "      <td>0.000000</td>\n",
       "      <td>0.000000</td>\n",
       "      <td>0.000000</td>\n",
       "      <td>0.000000</td>\n",
       "      <td>0.000000</td>\n",
       "    </tr>\n",
       "    <tr>\n",
       "      <th>max</th>\n",
       "      <td>9.000000</td>\n",
       "      <td>7.000000</td>\n",
       "      <td>6.000000</td>\n",
       "      <td>1.656849e+07</td>\n",
       "      <td>9.000000</td>\n",
       "      <td>1.000000</td>\n",
       "      <td>1.000000</td>\n",
       "      <td>1.000000</td>\n",
       "      <td>1.000000</td>\n",
       "      <td>1.000000</td>\n",
       "      <td>...</td>\n",
       "      <td>1.000000</td>\n",
       "      <td>1.000000</td>\n",
       "      <td>1.000000</td>\n",
       "      <td>1.000000</td>\n",
       "      <td>1.000000</td>\n",
       "      <td>1.000000</td>\n",
       "      <td>1.000000</td>\n",
       "      <td>1.000000</td>\n",
       "      <td>1.000000</td>\n",
       "      <td>1.000000</td>\n",
       "    </tr>\n",
       "  </tbody>\n",
       "</table>\n",
       "<p>8 rows × 41 columns</p>\n",
       "</div>"
      ],
      "text/plain": [
       "            bedroom      bathroom  parking_space         price     title_enc  \\\n",
       "count  10531.000000  10531.000000   10531.000000  1.053100e+04  10531.000000   \n",
       "mean       4.001705      2.957944       2.661855  2.127767e+06      4.666224   \n",
       "std        2.335920      1.904269       1.868082  1.069676e+06      2.890857   \n",
       "min        1.000000      1.000000       0.000000  4.319673e+05      0.000000   \n",
       "25%        2.441165      2.000000       1.000000  1.391271e+06      2.000000   \n",
       "50%        3.000000      2.035950       3.000000  1.888006e+06      5.000000   \n",
       "75%        5.000000      4.000000       4.000000  2.571146e+06      7.000000   \n",
       "max        9.000000      7.000000       6.000000  1.656849e+07      9.000000   \n",
       "\n",
       "           loc_Abia   loc_Adamawa  loc_Akwa Ibom   loc_Anambra    loc_Bauchi  \\\n",
       "count  10531.000000  10531.000000   10531.000000  10531.000000  10531.000000   \n",
       "mean       0.026208      0.027063       0.025923      0.029437      0.027348   \n",
       "std        0.159762      0.162275       0.158915      0.169036      0.163103   \n",
       "min        0.000000      0.000000       0.000000      0.000000      0.000000   \n",
       "25%        0.000000      0.000000       0.000000      0.000000      0.000000   \n",
       "50%        0.000000      0.000000       0.000000      0.000000      0.000000   \n",
       "75%        0.000000      0.000000       0.000000      0.000000      0.000000   \n",
       "max        1.000000      1.000000       1.000000      1.000000      1.000000   \n",
       "\n",
       "       ...      loc_Ogun      loc_Ondo      loc_Osun       loc_Oyo  \\\n",
       "count  ...  10531.000000  10531.000000  10531.000000  10531.000000   \n",
       "mean   ...      0.028297      0.028487      0.027158      0.028582   \n",
       "std    ...      0.165829      0.166368      0.162551      0.166637   \n",
       "min    ...      0.000000      0.000000      0.000000      0.000000   \n",
       "25%    ...      0.000000      0.000000      0.000000      0.000000   \n",
       "50%    ...      0.000000      0.000000      0.000000      0.000000   \n",
       "75%    ...      0.000000      0.000000      0.000000      0.000000   \n",
       "max    ...      1.000000      1.000000      1.000000      1.000000   \n",
       "\n",
       "        loc_Plateau    loc_Rivers    loc_Sokoto    loc_Taraba      loc_Yobe  \\\n",
       "count  10531.000000  10531.000000  10531.000000  10531.000000  10531.000000   \n",
       "mean       0.028582      0.026398      0.027253      0.026683      0.029152   \n",
       "std        0.166637      0.160324      0.162827      0.161163      0.168241   \n",
       "min        0.000000      0.000000      0.000000      0.000000      0.000000   \n",
       "25%        0.000000      0.000000      0.000000      0.000000      0.000000   \n",
       "50%        0.000000      0.000000      0.000000      0.000000      0.000000   \n",
       "75%        0.000000      0.000000      0.000000      0.000000      0.000000   \n",
       "max        1.000000      1.000000      1.000000      1.000000      1.000000   \n",
       "\n",
       "        loc_Zamfara  \n",
       "count  10531.000000  \n",
       "mean       0.029152  \n",
       "std        0.168241  \n",
       "min        0.000000  \n",
       "25%        0.000000  \n",
       "50%        0.000000  \n",
       "75%        0.000000  \n",
       "max        1.000000  \n",
       "\n",
       "[8 rows x 41 columns]"
      ]
     },
     "execution_count": 13,
     "metadata": {},
     "output_type": "execute_result"
    }
   ],
   "source": [
    "#statistical distribution of the dataset\n",
    "train.describe()"
   ]
  },
  {
   "cell_type": "code",
   "execution_count": 14,
   "id": "ce3d1e69",
   "metadata": {},
   "outputs": [
    {
     "data": {
      "text/html": [
       "<div>\n",
       "<style scoped>\n",
       "    .dataframe tbody tr th:only-of-type {\n",
       "        vertical-align: middle;\n",
       "    }\n",
       "\n",
       "    .dataframe tbody tr th {\n",
       "        vertical-align: top;\n",
       "    }\n",
       "\n",
       "    .dataframe thead th {\n",
       "        text-align: right;\n",
       "    }\n",
       "</style>\n",
       "<table border=\"1\" class=\"dataframe\">\n",
       "  <thead>\n",
       "    <tr style=\"text-align: right;\">\n",
       "      <th></th>\n",
       "      <th>bedroom</th>\n",
       "      <th>bathroom</th>\n",
       "      <th>parking_space</th>\n",
       "      <th>price</th>\n",
       "      <th>title_enc</th>\n",
       "      <th>loc_Abia</th>\n",
       "      <th>loc_Adamawa</th>\n",
       "      <th>loc_Akwa Ibom</th>\n",
       "      <th>loc_Anambra</th>\n",
       "      <th>loc_Bauchi</th>\n",
       "      <th>...</th>\n",
       "      <th>loc_Ogun</th>\n",
       "      <th>loc_Ondo</th>\n",
       "      <th>loc_Osun</th>\n",
       "      <th>loc_Oyo</th>\n",
       "      <th>loc_Plateau</th>\n",
       "      <th>loc_Rivers</th>\n",
       "      <th>loc_Sokoto</th>\n",
       "      <th>loc_Taraba</th>\n",
       "      <th>loc_Yobe</th>\n",
       "      <th>loc_Zamfara</th>\n",
       "    </tr>\n",
       "  </thead>\n",
       "  <tbody>\n",
       "    <tr>\n",
       "      <th>0</th>\n",
       "      <td>2.000000</td>\n",
       "      <td>2.0</td>\n",
       "      <td>1.0</td>\n",
       "      <td>1149999.565</td>\n",
       "      <td>7</td>\n",
       "      <td>0</td>\n",
       "      <td>0</td>\n",
       "      <td>0</td>\n",
       "      <td>0</td>\n",
       "      <td>0</td>\n",
       "      <td>...</td>\n",
       "      <td>0</td>\n",
       "      <td>0</td>\n",
       "      <td>0</td>\n",
       "      <td>0</td>\n",
       "      <td>0</td>\n",
       "      <td>0</td>\n",
       "      <td>0</td>\n",
       "      <td>0</td>\n",
       "      <td>0</td>\n",
       "      <td>0</td>\n",
       "    </tr>\n",
       "    <tr>\n",
       "      <th>1</th>\n",
       "      <td>2.441165</td>\n",
       "      <td>2.0</td>\n",
       "      <td>4.0</td>\n",
       "      <td>1672416.689</td>\n",
       "      <td>0</td>\n",
       "      <td>0</td>\n",
       "      <td>0</td>\n",
       "      <td>0</td>\n",
       "      <td>0</td>\n",
       "      <td>0</td>\n",
       "      <td>...</td>\n",
       "      <td>0</td>\n",
       "      <td>1</td>\n",
       "      <td>0</td>\n",
       "      <td>0</td>\n",
       "      <td>0</td>\n",
       "      <td>0</td>\n",
       "      <td>0</td>\n",
       "      <td>0</td>\n",
       "      <td>0</td>\n",
       "      <td>0</td>\n",
       "    </tr>\n",
       "    <tr>\n",
       "      <th>3</th>\n",
       "      <td>5.000000</td>\n",
       "      <td>2.0</td>\n",
       "      <td>4.0</td>\n",
       "      <td>2410306.756</td>\n",
       "      <td>3</td>\n",
       "      <td>0</td>\n",
       "      <td>0</td>\n",
       "      <td>0</td>\n",
       "      <td>1</td>\n",
       "      <td>0</td>\n",
       "      <td>...</td>\n",
       "      <td>0</td>\n",
       "      <td>0</td>\n",
       "      <td>0</td>\n",
       "      <td>0</td>\n",
       "      <td>0</td>\n",
       "      <td>0</td>\n",
       "      <td>0</td>\n",
       "      <td>0</td>\n",
       "      <td>0</td>\n",
       "      <td>0</td>\n",
       "    </tr>\n",
       "    <tr>\n",
       "      <th>4</th>\n",
       "      <td>2.441165</td>\n",
       "      <td>5.0</td>\n",
       "      <td>6.0</td>\n",
       "      <td>2600700.898</td>\n",
       "      <td>8</td>\n",
       "      <td>0</td>\n",
       "      <td>0</td>\n",
       "      <td>0</td>\n",
       "      <td>0</td>\n",
       "      <td>0</td>\n",
       "      <td>...</td>\n",
       "      <td>0</td>\n",
       "      <td>0</td>\n",
       "      <td>0</td>\n",
       "      <td>0</td>\n",
       "      <td>0</td>\n",
       "      <td>0</td>\n",
       "      <td>0</td>\n",
       "      <td>0</td>\n",
       "      <td>0</td>\n",
       "      <td>0</td>\n",
       "    </tr>\n",
       "    <tr>\n",
       "      <th>5</th>\n",
       "      <td>2.441165</td>\n",
       "      <td>1.0</td>\n",
       "      <td>3.0</td>\n",
       "      <td>1341750.867</td>\n",
       "      <td>5</td>\n",
       "      <td>0</td>\n",
       "      <td>0</td>\n",
       "      <td>0</td>\n",
       "      <td>0</td>\n",
       "      <td>0</td>\n",
       "      <td>...</td>\n",
       "      <td>0</td>\n",
       "      <td>0</td>\n",
       "      <td>0</td>\n",
       "      <td>0</td>\n",
       "      <td>0</td>\n",
       "      <td>0</td>\n",
       "      <td>0</td>\n",
       "      <td>0</td>\n",
       "      <td>0</td>\n",
       "      <td>0</td>\n",
       "    </tr>\n",
       "  </tbody>\n",
       "</table>\n",
       "<p>5 rows × 41 columns</p>\n",
       "</div>"
      ],
      "text/plain": [
       "    bedroom  bathroom  parking_space        price  title_enc  loc_Abia  \\\n",
       "0  2.000000       2.0            1.0  1149999.565          7         0   \n",
       "1  2.441165       2.0            4.0  1672416.689          0         0   \n",
       "3  5.000000       2.0            4.0  2410306.756          3         0   \n",
       "4  2.441165       5.0            6.0  2600700.898          8         0   \n",
       "5  2.441165       1.0            3.0  1341750.867          5         0   \n",
       "\n",
       "   loc_Adamawa  loc_Akwa Ibom  loc_Anambra  loc_Bauchi  ...  loc_Ogun  \\\n",
       "0            0              0            0           0  ...         0   \n",
       "1            0              0            0           0  ...         0   \n",
       "3            0              0            1           0  ...         0   \n",
       "4            0              0            0           0  ...         0   \n",
       "5            0              0            0           0  ...         0   \n",
       "\n",
       "   loc_Ondo  loc_Osun  loc_Oyo  loc_Plateau  loc_Rivers  loc_Sokoto  \\\n",
       "0         0         0        0            0           0           0   \n",
       "1         1         0        0            0           0           0   \n",
       "3         0         0        0            0           0           0   \n",
       "4         0         0        0            0           0           0   \n",
       "5         0         0        0            0           0           0   \n",
       "\n",
       "   loc_Taraba  loc_Yobe  loc_Zamfara  \n",
       "0           0         0            0  \n",
       "1           0         0            0  \n",
       "3           0         0            0  \n",
       "4           0         0            0  \n",
       "5           0         0            0  \n",
       "\n",
       "[5 rows x 41 columns]"
      ]
     },
     "execution_count": 14,
     "metadata": {},
     "output_type": "execute_result"
    }
   ],
   "source": [
    "train.head()"
   ]
  },
  {
   "cell_type": "markdown",
   "id": "44c555e4",
   "metadata": {},
   "source": [
    "# Modelling"
   ]
  },
  {
   "cell_type": "code",
   "execution_count": 15,
   "id": "e596e614",
   "metadata": {},
   "outputs": [],
   "source": [
    "#separating the dataset into dependent and independent features\n",
    "X = train.drop('price', axis=1)\n",
    "y = train.price"
   ]
  },
  {
   "cell_type": "code",
   "execution_count": 16,
   "id": "7c8356a9",
   "metadata": {},
   "outputs": [
    {
     "data": {
      "image/png": "[encoded data removed]",
      "text/plain": [
       "<Figure size 864x360 with 2 Axes>"
      ]
     },
     "metadata": {
      "needs_background": "light"
     },
     "output_type": "display_data"
    }
   ],
   "source": [
    "#Applying square root transformation to the y variable\n",
    "y_sqrt = np.sqrt(y)\n",
    "\n",
    "# Create subplots for the histograms\n",
    "fig, axes = plt.subplots(nrows=1, ncols=2, figsize=(12, 5))\n",
    "\n",
    "# Plot the original y values\n",
    "axes[0].hist(y, bins=30, color='blue', alpha=0.7)\n",
    "axes[0].set_title('Original y Values')\n",
    "axes[0].set_xlabel('Price', size = 12)\n",
    "axes[0].set_ylabel('Frequency', size = 12)\n",
    "\n",
    "# Plot the transformed y values\n",
    "axes[1].hist(y_sqrt, bins=30, color='green', alpha=0.7)\n",
    "axes[1].set_title('Sqrt-Transformed y Values')\n",
    "axes[1].set_xlabel('Sqrt(Price)', size = 12)\n",
    "axes[1].set_ylabel('Frequency', size = 12)\n",
    "\n",
    "# Adjust spacing between subplots\n",
    "plt.tight_layout()\n",
    "\n",
    "# Show the plots\n",
    "plt.show()\n"
   ]
  },
  {
   "cell_type": "markdown",
   "id": "777dc960",
   "metadata": {},
   "source": [
    "# LIGHT GBM MODEL"
   ]
  },
  {
   "cell_type": "code",
   "execution_count": 17,
   "id": "be927818",
   "metadata": {},
   "outputs": [
    {
     "name": "stdout",
     "output_type": "stream",
     "text": [
      "RMSE for LightGBM is: 2317007.321\n"
     ]
    }
   ],
   "source": [
    "from sklearn.model_selection import KFold\n",
    "from sklearn.metrics import mean_squared_error\n",
    "import lightgbm as lgb\n",
    "\n",
    "\n",
    "kf = KFold(n_splits = 15, shuffle=True, random_state=42) #15\n",
    "rmse_scores = []\n",
    "\n",
    "# Iterate through the KFold splits\n",
    "for train_index, test_index in kf.split(X):\n",
    "    # Split the data into train and test sets based on the indices provided by KFold\n",
    "    X_train, X_test = X.iloc[train_index], X.iloc[test_index]\n",
    "    y_train, y_test = y_sqrt.iloc[train_index], y_sqrt.iloc[test_index]\n",
    "\n",
    "    # Fit the model to the training data\n",
    "    model_lgb = lgb.LGBMRegressor(random_state=42).fit(X_train, y_train)\n",
    "\n",
    "    # Make predictions on the test data\n",
    "    y_pred_sqrt = model_lgb.predict(X_test)\n",
    "    predictions = model_lgb.predict(test)\n",
    "\n",
    "    # Calculate evaluation metrics\n",
    "    rmse = np.sqrt(mean_squared_error(y_test, np.square(y_pred_sqrt)))\n",
    "\n",
    "    # Append the metrics to the corresponding list\n",
    "    rmse_scores.append(rmse)\n",
    "\n",
    "# Calculate the average of the evaluation metrics\n",
    "avg_rmse = np.mean(rmse_scores).round(3)\n",
    "\n",
    "print(\"RMSE for LightGBM is:\", avg_rmse)\n",
    "\n",
    "# Reverse the log transformation on predictions\n",
    "predictions = np.square(predictions)"
   ]
  },
  {
   "cell_type": "code",
   "execution_count": 18,
   "id": "57f9832e",
   "metadata": {},
   "outputs": [
    {
     "data": {
      "text/plain": [
       "array([2362464.61658362, 1055328.98182496, 1273575.21767259, ...,\n",
       "       1860918.81550122, 1393347.51464218, 3578168.90302191])"
      ]
     },
     "execution_count": 18,
     "metadata": {},
     "output_type": "execute_result"
    }
   ],
   "source": [
    "predictions"
   ]
  },
  {
   "cell_type": "code",
   "execution_count": 19,
   "id": "58fac304",
   "metadata": {},
   "outputs": [],
   "source": [
    "sub_file = submission.copy()\n",
    "sub_file['price'] = predictions\n",
    "\n",
    "sub_file.to_csv(\"lgb_sqrt.csv\", index=False)"
   ]
  },
  {
   "cell_type": "code",
   "execution_count": 20,
   "id": "d320b297",
   "metadata": {},
   "outputs": [
    {
     "name": "stdout",
     "output_type": "stream",
     "text": [
      "  Original_Column  Importance\n",
      "4           title       588.0\n",
      "1         bedroom       490.0\n",
      "0        bathroom       325.0\n",
      "3         parking       229.0\n",
      "2             loc        38.0\n"
     ]
    }
   ],
   "source": [
    "# Get feature importances\n",
    "feature_importances = model_lgb.feature_importances_\n",
    "\n",
    "feature_importance_df = pd.DataFrame({'Feature': X.columns, 'Importance': feature_importances})\n",
    "feature_importance_df = feature_importance_df.sort_values(by='Importance', ascending=False)\n",
    "\n",
    "feature_importance_df['Original_Column'] = feature_importance_df['Feature'].str.split('_').str[0]\n",
    "grouped_importance = feature_importance_df.groupby('Original_Column')['Importance'].mean().round(2).reset_index()\n",
    "\n",
    "# Sort the DataFrame by importance scores in descending order\n",
    "grouped_importance = grouped_importance.sort_values('Importance', ascending=False)\n",
    "\n",
    "# Print the sorted feature importance\n",
    "print(grouped_importance)"
   ]
  },
  {
   "cell_type": "code",
   "execution_count": 21,
   "id": "70259576",
   "metadata": {},
   "outputs": [
    {
     "data": {
      "image/png": "[encoded data removed]",
      "text/plain": [
       "<Figure size 576x360 with 1 Axes>"
      ]
     },
     "metadata": {
      "needs_background": "light"
     },
     "output_type": "display_data"
    }
   ],
   "source": [
    "#Plotting the Feature Importance\n",
    "plt.figure(figsize=(8, 5))\n",
    "plt.bar(grouped_importance['Original_Column'], grouped_importance['Importance'])\n",
    "plt.xticks(rotation=90, ha='center', size = 12)\n",
    "plt.xlabel('Features', size = 12)\n",
    "plt.ylabel('Importance Score', size = 12)\n",
    "plt.title('Grouped Feature Importance for Light GBM', size = 15)\n",
    "plt.tight_layout()\n",
    "plt.savefig(\"Grouped Feature Importance for Light GBM.png\")\n",
    "plt.show()"
   ]
  },
  {
   "cell_type": "markdown",
   "id": "daf0b035",
   "metadata": {},
   "source": [
    "CATBOOST MODEL"
   ]
  },
  {
   "cell_type": "code",
   "execution_count": 22,
   "id": "3783c9a9",
   "metadata": {},
   "outputs": [
    {
     "name": "stdout",
     "output_type": "stream",
     "text": [
      "RMSE for CatBoost is: 2323551.498\n"
     ]
    }
   ],
   "source": [
    "from sklearn.model_selection import KFold\n",
    "from catboost import CatBoostRegressor\n",
    "from sklearn.metrics import mean_squared_error\n",
    "\n",
    "\n",
    "kf = KFold(n_splits = 15, shuffle=True, random_state=42) #15\n",
    "rmse_scores = []\n",
    "\n",
    "# Iterate through the KFold splits\n",
    "for train_index, test_index in kf.split(X):\n",
    "    # Split the data into train and test sets based on the indices provided by KFold\n",
    "    X_train, X_test = X.iloc[train_index], X.iloc[test_index]\n",
    "    y_train, y_test = y_sqrt.iloc[train_index], y_sqrt.iloc[test_index]\n",
    "\n",
    "    # Fit the model to the training data\n",
    "    model_cat = CatBoostRegressor(random_state=42, silent=True).fit(X_train, y_train)\n",
    "\n",
    "    # Make predictions on the test data\n",
    "    y_pred_sqrt = model_cat.predict(X_test)\n",
    "    predictions = model_cat.predict(test)\n",
    "\n",
    "    # Calculate evaluation metrics\n",
    "    rmse = np.sqrt(mean_squared_error(y_test, np.square(y_pred_sqrt)))\n",
    "\n",
    "    # Append the metrics to the corresponding list\n",
    "    rmse_scores.append(rmse)\n",
    "\n",
    "# Calculate the average of the evaluation metrics\n",
    "avg_rmse = np.mean(rmse_scores).round(3)\n",
    "\n",
    "print(\"RMSE for CatBoost is:\", avg_rmse)\n",
    "\n",
    "# Reverse the log transformation on predictions\n",
    "predictions = np.square(predictions)"
   ]
  },
  {
   "cell_type": "code",
   "execution_count": 23,
   "id": "0a9cf901",
   "metadata": {},
   "outputs": [
    {
     "name": "stdout",
     "output_type": "stream",
     "text": [
      "  Original_Column  Importance\n",
      "4           title       47.48\n",
      "1         bedroom       23.90\n",
      "0        bathroom        3.84\n",
      "3         parking        1.73\n",
      "2             loc        0.64\n"
     ]
    }
   ],
   "source": [
    "# Get feature importances\n",
    "feature_importances = model_cat.feature_importances_\n",
    "\n",
    "feature_importance_df = pd.DataFrame({'Feature': X.columns, 'Importance': feature_importances})\n",
    "feature_importance_df = feature_importance_df.sort_values(by='Importance', ascending=False)\n",
    "\n",
    "feature_importance_df['Original_Column'] = feature_importance_df['Feature'].str.split('_').str[0]\n",
    "grouped_importance = feature_importance_df.groupby('Original_Column')['Importance'].mean().round(2).reset_index()\n",
    "\n",
    "# Sort the DataFrame by importance scores in descending order\n",
    "grouped_importance = grouped_importance.sort_values('Importance', ascending=False)\n",
    "\n",
    "# Print the sorted feature importance\n",
    "print(grouped_importance)"
   ]
  },
  {
   "cell_type": "code",
   "execution_count": 24,
   "id": "cce24570",
   "metadata": {},
   "outputs": [
    {
     "data": {
      "image/png": "[encoded data removed]",
      "text/plain": [
       "<Figure size 576x360 with 1 Axes>"
      ]
     },
     "metadata": {
      "needs_background": "light"
     },
     "output_type": "display_data"
    }
   ],
   "source": [
    "#Plotting the Feature Importance\n",
    "plt.figure(figsize=(8, 5))\n",
    "plt.bar(grouped_importance['Original_Column'], grouped_importance['Importance'])\n",
    "plt.xticks(rotation=90, ha='center', size = 12)\n",
    "plt.xlabel('Features', size = 12)\n",
    "plt.ylabel('Importance Score', size = 12)\n",
    "plt.title('Grouped Feature Importance for CatBoost', size = 15)\n",
    "plt.tight_layout()\n",
    "plt.savefig(\"Grouped Feature Importance for CatBoost.png\")\n",
    "plt.show()"
   ]
  },
  {
   "cell_type": "code",
   "execution_count": 25,
   "id": "df33d916",
   "metadata": {},
   "outputs": [],
   "source": [
    "sub_file = submission.copy()\n",
    "sub_file['price'] = predictions\n",
    "\n",
    "sub_file.to_csv(\"cat_sqrt.csv\", index=False)"
   ]
  },
  {
   "cell_type": "markdown",
   "id": "c74d37c7",
   "metadata": {},
   "source": [
    "BLENDING OF THE MODELS"
   ]
  },
  {
   "cell_type": "code",
   "execution_count": 26,
   "id": "7ee7d579",
   "metadata": {},
   "outputs": [],
   "source": [
    "pred_1= pd.read_csv('cat_sqrt.csv')['price']\n",
    "pred_2 = pd.read_csv('lgb_sqrt.csv')['price']"
   ]
  },
  {
   "cell_type": "code",
   "execution_count": 27,
   "id": "647aff6b",
   "metadata": {},
   "outputs": [],
   "source": [
    "# THE catboost model was given a weight of 0.7 and the light gbm was given 0.3\n",
    "sub_pred = (pred_1 * 0.7) + (pred_2 * 0.3) #0.7 and 0.3\n",
    "sub_file['price'] = sub_pred\n",
    "sub_file.to_csv('Blended_sqrt.csv', index = False)"
   ]
  },
  {
   "cell_type": "code",
   "execution_count": null,
   "id": "7c787940",
   "metadata": {},
   "outputs": [],
   "source": []
  }
 ],
 "metadata": {
  "kernelspec": {
   "display_name": "Python 3 (ipykernel)",
   "language": "python",
   "name": "python3"
  },
  "language_info": {
   "codemirror_mode": {
    "name": "ipython",
    "version": 3
   },
   "file_extension": ".py",
   "mimetype": "text/x-python",
   "name": "python",
   "nbconvert_exporter": "python",
   "pygments_lexer": "ipython3",
   "version": "3.9.12"
  }
 },
 "nbformat": 4,
 "nbformat_minor": 5
}
